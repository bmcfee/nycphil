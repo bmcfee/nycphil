{
 "cells": [
  {
   "cell_type": "markdown",
   "metadata": {},
   "source": [
    "Data from: https://github.com/nyphilarchive/PerformanceHistory/tree/master/Programs\n",
    "\n",
    "The schema looks as follows\n",
    "\n",
    "```\n",
    "<programs>\n",
    "   <program>\n",
    "      <id/> // GUID\n",
    "      <programID/> // NYP Local ID\n",
    "      <orchestra/>\n",
    "      <season/>  \n",
    "      <concertInfo> // A program can have multiple concerts\n",
    "         <eventType/>\n",
    "         <Location/>\n",
    "         <Venue/>\n",
    "         <Date/>\n",
    "         <Time/>\n",
    "      </concertInfo>\n",
    "      <worksInfo> // a program will usually have multiple works \n",
    "         <work>\n",
    "             <composerName/>\n",
    "             <workTitle/>\n",
    "             <conductorName/>     \n",
    "             <soloists> // included only if there are listed soloists\n",
    "                <soloist>\n",
    "                    <soloistName/>\n",
    "                    <soloistInstrument/> \n",
    "                    <soloistRole/>           \n",
    "                </soloist>\n",
    "             </soloists>\n",
    "             <interval/> // intermissions are listed among works, but with a distinct interval tag\n",
    "         </work>\n",
    "      </worksInfo>\n",
    "   </program>\n",
    "</programs>\n",
    "```\n",
    "            "
   ]
  },
  {
   "cell_type": "code",
   "execution_count": 1,
   "metadata": {
    "collapsed": false
   },
   "outputs": [],
   "source": [
    "import lxml\n",
    "import pandas as pd\n",
    "import seaborn\n",
    "%matplotlib inline\n",
    "import matplotlib.pyplot as plt\n",
    "seaborn.set(style='dark')"
   ]
  },
  {
   "cell_type": "code",
   "execution_count": 2,
   "metadata": {
    "collapsed": true
   },
   "outputs": [],
   "source": [
    "from lxml import etree, objectify"
   ]
  },
  {
   "cell_type": "code",
   "execution_count": 3,
   "metadata": {
    "collapsed": true
   },
   "outputs": [],
   "source": [
    "import collections"
   ]
  },
  {
   "cell_type": "code",
   "execution_count": 44,
   "metadata": {
    "collapsed": true
   },
   "outputs": [],
   "source": [
    "import glob"
   ]
  },
  {
   "cell_type": "code",
   "execution_count": 4,
   "metadata": {
    "collapsed": true
   },
   "outputs": [],
   "source": [
    "def parse_programs(programs):\n",
    "    \n",
    "    return [parse_program(x) for x in programs]\n",
    "\n",
    "def parse_program(program):\n",
    "    \n",
    "    dispatch = dict(concertInfo=parse_concertInfo,\n",
    "                    worksInfo=parse_worksInfo)\n",
    "    data = dict()\n",
    "    \n",
    "    for child in program.getchildren():\n",
    "        if child.tag in dispatch:\n",
    "            data[child.tag] = dispatch[child.tag](child)\n",
    "        else:\n",
    "            data[child.tag] = child.text\n",
    "            \n",
    "    return data\n",
    "            \n",
    "def parse_concertInfo(concertInfo):\n",
    "    data = dict()\n",
    "    \n",
    "    for child in concertInfo.getchildren():\n",
    "        data[child.tag] = child.text\n",
    "    \n",
    "    return data\n",
    "\n",
    "def parse_worksInfo(worksInfo):\n",
    "    \n",
    "    data = list()\n",
    "    \n",
    "    for child in worksInfo.getchildren():\n",
    "        data.append(parse_work(child))\n",
    "            \n",
    "    return data\n",
    "\n",
    "def parse_work(work):\n",
    "    \n",
    "    dispatch = dict(soloists=parse_soloists)\n",
    "    data = dict()\n",
    "    \n",
    "    for child in work.getchildren():\n",
    "        if child.tag in dispatch:\n",
    "            data[child.tag] = dispatch[child.tag](child)\n",
    "        else:\n",
    "            data[child.tag] = child.text\n",
    "            \n",
    "    return data\n",
    "\n",
    "def parse_soloists(soloists):\n",
    "    data = list()\n",
    "    for child in soloists.getchildren():\n",
    "        data.append(parse_soloist(child))\n",
    "    return data\n",
    "\n",
    "def parse_soloist(soloist):\n",
    "    data = dict()\n",
    "    \n",
    "    for child in soloist.getchildren():\n",
    "        data[child.tag] = child.text\n",
    "    \n",
    "    return data"
   ]
  },
  {
   "cell_type": "code",
   "execution_count": 5,
   "metadata": {
    "collapsed": true
   },
   "outputs": [],
   "source": [
    "def flatten(d):\n",
    "    \n",
    "    works = d.pop('worksInfo', [])\n",
    "    concertInfo = d.pop('concertInfo', [])\n",
    "    \n",
    "    out = []\n",
    "    for w in works:\n",
    "        out.append(concertInfo.copy())\n",
    "        w.pop('soloists', None)\n",
    "        out[-1].update(d)\n",
    "        out[-1].update(w)\n",
    "        \n",
    "    return out"
   ]
  },
  {
   "cell_type": "code",
   "execution_count": 46,
   "metadata": {
    "collapsed": false
   },
   "outputs": [],
   "source": [
    "def load_programs():\n",
    "    # We need this to handle badly formatted &'s in strings\n",
    "    parser = etree.XMLParser(recover=True)\n",
    "\n",
    "    fd = []\n",
    "\n",
    "    for xmlfile in sorted(glob.glob('../data/nyphil/Programs/1*.xml')):\n",
    "        obj = objectify.parse(xmlfile, parser=parser)\n",
    "        dix = parse_programs(obj.getroot())\n",
    "        for _ in dix:\n",
    "            fd.extend(flatten(_))\n",
    "    df = pd.DataFrame.from_records(fd)\n",
    "    df['Date'] = pd.to_datetime(df['Date'])\n",
    "    del df['worksInfo']\n",
    "    del df['work']\n",
    "    del df['concertInfo']\n",
    "\n",
    "    return df"
   ]
  },
  {
   "cell_type": "markdown",
   "metadata": {},
   "source": [
    "---\n",
    "# Analysis"
   ]
  },
  {
   "cell_type": "code",
   "execution_count": 47,
   "metadata": {
    "collapsed": true
   },
   "outputs": [],
   "source": [
    "df = load_programs()"
   ]
  },
  {
   "cell_type": "code",
   "execution_count": 51,
   "metadata": {
    "collapsed": false
   },
   "outputs": [
    {
     "data": {
      "text/html": [
       "<div style=\"max-height:1000px;max-width:1500px;overflow:auto;\">\n",
       "<table border=\"1\" class=\"dataframe\">\n",
       "  <thead>\n",
       "    <tr style=\"text-align: right;\">\n",
       "      <th></th>\n",
       "      <th>Date</th>\n",
       "      <th>Location</th>\n",
       "      <th>Time</th>\n",
       "      <th>Venue</th>\n",
       "      <th>composerName</th>\n",
       "      <th>conductorName</th>\n",
       "      <th>eventType</th>\n",
       "      <th>id</th>\n",
       "      <th>interval</th>\n",
       "      <th>orchestra</th>\n",
       "      <th>program</th>\n",
       "      <th>programID</th>\n",
       "      <th>season</th>\n",
       "      <th>workTitle</th>\n",
       "    </tr>\n",
       "  </thead>\n",
       "  <tbody>\n",
       "    <tr>\n",
       "      <th>0</th>\n",
       "      <td>1842-12-07 05:00:00</td>\n",
       "      <td>Manhattan, NY</td>\n",
       "      <td>8:00PM</td>\n",
       "      <td>Apollo Rooms</td>\n",
       "      <td>Beethoven,  Ludwig  van</td>\n",
       "      <td>Hill, Ureli Corelli</td>\n",
       "      <td>Subscription Season</td>\n",
       "      <td>38e072a7-8fc9-4f9a-8eac-3957905c0002</td>\n",
       "      <td>NaN</td>\n",
       "      <td>New York Philharmonic</td>\n",
       "      <td>NaN</td>\n",
       "      <td>3853</td>\n",
       "      <td>1842-43</td>\n",
       "      <td>SYMPHONY NO. 5 IN C MINOR, OP.67</td>\n",
       "    </tr>\n",
       "    <tr>\n",
       "      <th>1</th>\n",
       "      <td>1842-12-07 05:00:00</td>\n",
       "      <td>Manhattan, NY</td>\n",
       "      <td>8:00PM</td>\n",
       "      <td>Apollo Rooms</td>\n",
       "      <td>Weber,  Carl  Maria Von</td>\n",
       "      <td>Timm, Henry C.</td>\n",
       "      <td>Subscription Season</td>\n",
       "      <td>38e072a7-8fc9-4f9a-8eac-3957905c0002</td>\n",
       "      <td>NaN</td>\n",
       "      <td>New York Philharmonic</td>\n",
       "      <td>NaN</td>\n",
       "      <td>3853</td>\n",
       "      <td>1842-43</td>\n",
       "      <td>OBERON</td>\n",
       "    </tr>\n",
       "    <tr>\n",
       "      <th>2</th>\n",
       "      <td>1842-12-07 05:00:00</td>\n",
       "      <td>Manhattan, NY</td>\n",
       "      <td>8:00PM</td>\n",
       "      <td>Apollo Rooms</td>\n",
       "      <td>Hummel,  Johann</td>\n",
       "      <td>NaN</td>\n",
       "      <td>Subscription Season</td>\n",
       "      <td>38e072a7-8fc9-4f9a-8eac-3957905c0002</td>\n",
       "      <td>NaN</td>\n",
       "      <td>New York Philharmonic</td>\n",
       "      <td>NaN</td>\n",
       "      <td>3853</td>\n",
       "      <td>1842-43</td>\n",
       "      <td>QUINTET, PIANO, D MINOR, OP. 74</td>\n",
       "    </tr>\n",
       "    <tr>\n",
       "      <th>3</th>\n",
       "      <td>1842-12-07 05:00:00</td>\n",
       "      <td>Manhattan, NY</td>\n",
       "      <td>8:00PM</td>\n",
       "      <td>Apollo Rooms</td>\n",
       "      <td>NaN</td>\n",
       "      <td>NaN</td>\n",
       "      <td>Subscription Season</td>\n",
       "      <td>38e072a7-8fc9-4f9a-8eac-3957905c0002</td>\n",
       "      <td>Intermission</td>\n",
       "      <td>New York Philharmonic</td>\n",
       "      <td>NaN</td>\n",
       "      <td>3853</td>\n",
       "      <td>1842-43</td>\n",
       "      <td>NaN</td>\n",
       "    </tr>\n",
       "    <tr>\n",
       "      <th>4</th>\n",
       "      <td>1842-12-07 05:00:00</td>\n",
       "      <td>Manhattan, NY</td>\n",
       "      <td>8:00PM</td>\n",
       "      <td>Apollo Rooms</td>\n",
       "      <td>Weber,  Carl  Maria Von</td>\n",
       "      <td>Etienne, Denis G.</td>\n",
       "      <td>Subscription Season</td>\n",
       "      <td>38e072a7-8fc9-4f9a-8eac-3957905c0002</td>\n",
       "      <td>NaN</td>\n",
       "      <td>New York Philharmonic</td>\n",
       "      <td>NaN</td>\n",
       "      <td>3853</td>\n",
       "      <td>1842-43</td>\n",
       "      <td>OBERON</td>\n",
       "    </tr>\n",
       "  </tbody>\n",
       "</table>\n",
       "</div>"
      ],
      "text/plain": [
       "                 Date       Location    Time         Venue  \\\n",
       "0 1842-12-07 05:00:00  Manhattan, NY  8:00PM  Apollo Rooms   \n",
       "1 1842-12-07 05:00:00  Manhattan, NY  8:00PM  Apollo Rooms   \n",
       "2 1842-12-07 05:00:00  Manhattan, NY  8:00PM  Apollo Rooms   \n",
       "3 1842-12-07 05:00:00  Manhattan, NY  8:00PM  Apollo Rooms   \n",
       "4 1842-12-07 05:00:00  Manhattan, NY  8:00PM  Apollo Rooms   \n",
       "\n",
       "              composerName        conductorName            eventType  \\\n",
       "0  Beethoven,  Ludwig  van  Hill, Ureli Corelli  Subscription Season   \n",
       "1  Weber,  Carl  Maria Von       Timm, Henry C.  Subscription Season   \n",
       "2          Hummel,  Johann                  NaN  Subscription Season   \n",
       "3                      NaN                  NaN  Subscription Season   \n",
       "4  Weber,  Carl  Maria Von    Etienne, Denis G.  Subscription Season   \n",
       "\n",
       "                                     id      interval              orchestra  \\\n",
       "0  38e072a7-8fc9-4f9a-8eac-3957905c0002           NaN  New York Philharmonic   \n",
       "1  38e072a7-8fc9-4f9a-8eac-3957905c0002           NaN  New York Philharmonic   \n",
       "2  38e072a7-8fc9-4f9a-8eac-3957905c0002           NaN  New York Philharmonic   \n",
       "3  38e072a7-8fc9-4f9a-8eac-3957905c0002  Intermission  New York Philharmonic   \n",
       "4  38e072a7-8fc9-4f9a-8eac-3957905c0002           NaN  New York Philharmonic   \n",
       "\n",
       "  program programID   season                         workTitle  \n",
       "0     NaN      3853  1842-43  SYMPHONY NO. 5 IN C MINOR, OP.67  \n",
       "1     NaN      3853  1842-43                            OBERON  \n",
       "2     NaN      3853  1842-43   QUINTET, PIANO, D MINOR, OP. 74  \n",
       "3     NaN      3853  1842-43                               NaN  \n",
       "4     NaN      3853  1842-43                            OBERON  "
      ]
     },
     "execution_count": 51,
     "metadata": {},
     "output_type": "execute_result"
    }
   ],
   "source": [
    "df.head(5)"
   ]
  },
  {
   "cell_type": "code",
   "execution_count": 52,
   "metadata": {
    "collapsed": true
   },
   "outputs": [],
   "source": [
    "works = df['workTitle'].value_counts()"
   ]
  },
  {
   "cell_type": "code",
   "execution_count": 59,
   "metadata": {
    "collapsed": false
   },
   "outputs": [
    {
     "data": {
      "text/plain": [
       "MEISTERSINGER, DIE, WWV 96                             655\n",
       "TANNHAUSER, WWV 70                                     528\n",
       "GOTTERDAMMERUNG [GÖTTERDÄMMERUNG]                      511\n",
       "LOHENGRIN                                              415\n",
       "DAMNATION DE FAUST, LA, OP. 24                         389\n",
       "WALKURE, DIE, WWV 86B                                  389\n",
       "SYMPHONY NO. 5 IN C MINOR, OP.67                       383\n",
       "TRISTAN UND ISOLDE, WWV 90                             370\n",
       "MIDSUMMER NIGHT'S DREAM, OP. 61                        364\n",
       "SYMPHONY NO. 5, E MINOR, OP. 64                        318\n",
       "LEONORE OVERTURE NO. 3, OP. 72B                        299\n",
       "UNITED STATES                                          298\n",
       "SYMPHONY NO. 4, F MINOR, OP. 36                        297\n",
       "SYMPHONY NO. 3 IN E FLAT MAJOR, OP. 55 (EROICA)        295\n",
       "SYMPHONY NO. 7 IN A MAJOR, OP.92                       286\n",
       "PORGY AND BESS                                         284\n",
       "PARSIFAL, WWV 111                                      276\n",
       "SYMPHONY NO. 9, E MINOR, OP.95 (FROM THE NEW WORLD)    272\n",
       "SYMPHONY NO. 1 IN C MINOR, OP. 68                      264\n",
       "SYMPHONY NO. 6, B MINOR, OP. 74 (PATHÉTIQUE)           260\n",
       "dtype: int64"
      ]
     },
     "execution_count": 59,
     "metadata": {},
     "output_type": "execute_result"
    }
   ],
   "source": [
    "works.head(20)"
   ]
  },
  {
   "cell_type": "code",
   "execution_count": 54,
   "metadata": {
    "collapsed": false
   },
   "outputs": [],
   "source": [
    "composers = df['composerName'].value_counts()"
   ]
  },
  {
   "cell_type": "code",
   "execution_count": 58,
   "metadata": {
    "collapsed": false
   },
   "outputs": [
    {
     "data": {
      "text/plain": [
       "Wagner,  Richard               4256\n",
       "Beethoven,  Ludwig  van        3518\n",
       "Tchaikovsky,  Pyotr  Ilyich    2753\n",
       "Mozart,  Wolfgang  Amadeus     1931\n",
       "Brahms,  Johannes              1806\n",
       "Strauss,  Richard              1268\n",
       "Mendelssohn,  Felix            1175\n",
       "Berlioz,  Hector               1068\n",
       "Bach,  Johann  Sebastian       1007\n",
       "Dvorak,  Antonín                912\n",
       "Schubert,  Franz                906\n",
       "Liszt,  Franz                   857\n",
       "Debussy,  Claude                774\n",
       "Weber,  Carl  Maria Von         743\n",
       "Stravinsky,  Igor               741\n",
       "Schumann,  Robert               717\n",
       "Strauss,  Johann, II            714\n",
       "Ravel,  Maurice                 701\n",
       "Gershwin,  George               681\n",
       "Traditional,                    659\n",
       "dtype: int64"
      ]
     },
     "execution_count": 58,
     "metadata": {},
     "output_type": "execute_result"
    }
   ],
   "source": [
    "composers.head(20)"
   ]
  },
  {
   "cell_type": "code",
   "execution_count": 61,
   "metadata": {
    "collapsed": true
   },
   "outputs": [],
   "source": [
    "conductors = df['conductorName'].value_counts()"
   ]
  },
  {
   "cell_type": "code",
   "execution_count": 62,
   "metadata": {
    "collapsed": false
   },
   "outputs": [
    {
     "data": {
      "text/plain": [
       "Damrosch, Walter           5209\n",
       "Stransky, Josef            5117\n",
       "Mehta, Zubin               2755\n",
       "Hoogstraten, Willem van    1999\n",
       "Kostelanetz, Andre         1939\n",
       "Masur, Kurt                1741\n",
       "Mitropoulos, Dimitri       1538\n",
       "Mengelberg, Willem         1261\n",
       "Bernstein, Leonard         1232\n",
       "Toscanini, Arturo          1006\n",
       "Smallens, Alexander         984\n",
       "Rodzinski, Artur            874\n",
       "Walter, Bruno               848\n",
       "Boulez, Pierre              789\n",
       "Leinsdorf, Erich            750\n",
       "Stokowski, Leopold          725\n",
       "Schelling, Ernest           704\n",
       "Slatkin, Leonard            495\n",
       "Szell, George               487\n",
       "Bergmann, Carl              484\n",
       "dtype: int64"
      ]
     },
     "execution_count": 62,
     "metadata": {},
     "output_type": "execute_result"
    }
   ],
   "source": [
    "conductors.head(20)"
   ]
  },
  {
   "cell_type": "code",
   "execution_count": 60,
   "metadata": {
    "collapsed": false
   },
   "outputs": [
    {
     "data": {
      "text/plain": [
       "count                   60578\n",
       "unique                   9344\n",
       "top       1956-07-12 04:00:00\n",
       "freq                      847\n",
       "first     1842-12-07 05:00:00\n",
       "last      2004-07-30 04:00:00\n",
       "Name: Date, dtype: object"
      ]
     },
     "execution_count": 60,
     "metadata": {},
     "output_type": "execute_result"
    }
   ],
   "source": [
    "df['Date'].describe()"
   ]
  }
 ],
 "metadata": {
  "kernelspec": {
   "display_name": "Python 2",
   "language": "python",
   "name": "python2"
  },
  "language_info": {
   "codemirror_mode": {
    "name": "ipython",
    "version": 2
   },
   "file_extension": ".py",
   "mimetype": "text/x-python",
   "name": "python",
   "nbconvert_exporter": "python",
   "pygments_lexer": "ipython2",
   "version": "2.7.10"
  }
 },
 "nbformat": 4,
 "nbformat_minor": 0
}
